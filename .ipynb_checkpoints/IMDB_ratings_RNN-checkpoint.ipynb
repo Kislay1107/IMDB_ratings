{
 "cells": [
  {
   "cell_type": "code",
   "execution_count": 1,
   "id": "91a865df-a18b-4984-a350-1c149eb773c5",
   "metadata": {},
   "outputs": [],
   "source": [
    "import pandas as pd\n",
    "import numpy as np\n",
    "import matplotlib.pyplot as plt\n",
    "import seaborn as sns"
   ]
  },
  {
   "cell_type": "code",
   "execution_count": 2,
   "id": "d06ee00d-530e-41b3-9267-8bead1ae3f24",
   "metadata": {},
   "outputs": [],
   "source": [
    "# !pip install tensorflow"
   ]
  },
  {
   "cell_type": "code",
   "execution_count": 3,
   "id": "8ff33987-8514-4141-bfe5-a65562b971f7",
   "metadata": {},
   "outputs": [
    {
     "name": "stderr",
     "output_type": "stream",
     "text": [
      "2025-02-03 09:49:45.943938: I external/local_xla/xla/tsl/cuda/cudart_stub.cc:32] Could not find cuda drivers on your machine, GPU will not be used.\n",
      "2025-02-03 09:49:45.948023: I external/local_xla/xla/tsl/cuda/cudart_stub.cc:32] Could not find cuda drivers on your machine, GPU will not be used.\n",
      "2025-02-03 09:49:45.961183: E external/local_xla/xla/stream_executor/cuda/cuda_fft.cc:477] Unable to register cuFFT factory: Attempting to register factory for plugin cuFFT when one has already been registered\n",
      "WARNING: All log messages before absl::InitializeLog() is called are written to STDERR\n",
      "E0000 00:00:1738556385.983435   47284 cuda_dnn.cc:8310] Unable to register cuDNN factory: Attempting to register factory for plugin cuDNN when one has already been registered\n",
      "E0000 00:00:1738556385.990103   47284 cuda_blas.cc:1418] Unable to register cuBLAS factory: Attempting to register factory for plugin cuBLAS when one has already been registered\n"
     ]
    }
   ],
   "source": [
    "from tensorflow.keras.datasets import imdb"
   ]
  },
  {
   "cell_type": "code",
   "execution_count": 4,
   "id": "8e10b23a-e8f7-4466-976a-f0f8c3f85fe6",
   "metadata": {},
   "outputs": [],
   "source": [
    "vocab_size = 10000"
   ]
  },
  {
   "cell_type": "code",
   "execution_count": 5,
   "id": "3d53401e-d704-4ea1-acd3-4cb5378e733f",
   "metadata": {},
   "outputs": [],
   "source": [
    "(x_train, y_train), (x_test, y_test) = imdb.load_data(num_words= vocab_size)"
   ]
  },
  {
   "cell_type": "code",
   "execution_count": 6,
   "id": "c63e35db-8795-483f-8dd0-b9ce2e6c4cd0",
   "metadata": {},
   "outputs": [],
   "source": [
    "# imdb.get_word_index()"
   ]
  },
  {
   "cell_type": "code",
   "execution_count": 7,
   "id": "55a8b1bf-5915-4637-b711-695233011189",
   "metadata": {},
   "outputs": [
    {
     "data": {
      "text/plain": [
       "1"
      ]
     },
     "execution_count": 7,
     "metadata": {},
     "output_type": "execute_result"
    }
   ],
   "source": [
    "y_train[0]"
   ]
  },
  {
   "cell_type": "code",
   "execution_count": 8,
   "id": "30ce6615-db55-4529-b96f-67f169b0b6fb",
   "metadata": {},
   "outputs": [
    {
     "data": {
      "text/plain": [
       "[1,\n",
       " 591,\n",
       " 202,\n",
       " 14,\n",
       " 31,\n",
       " 6,\n",
       " 717,\n",
       " 10,\n",
       " 10,\n",
       " 2,\n",
       " 2,\n",
       " 5,\n",
       " 4,\n",
       " 360,\n",
       " 7,\n",
       " 4,\n",
       " 177,\n",
       " 5760,\n",
       " 394,\n",
       " 354,\n",
       " 4,\n",
       " 123,\n",
       " 9,\n",
       " 1035,\n",
       " 1035,\n",
       " 1035,\n",
       " 10,\n",
       " 10,\n",
       " 13,\n",
       " 92,\n",
       " 124,\n",
       " 89,\n",
       " 488,\n",
       " 7944,\n",
       " 100,\n",
       " 28,\n",
       " 1668,\n",
       " 14,\n",
       " 31,\n",
       " 23,\n",
       " 27,\n",
       " 7479,\n",
       " 29,\n",
       " 220,\n",
       " 468,\n",
       " 8,\n",
       " 124,\n",
       " 14,\n",
       " 286,\n",
       " 170,\n",
       " 8,\n",
       " 157,\n",
       " 46,\n",
       " 5,\n",
       " 27,\n",
       " 239,\n",
       " 16,\n",
       " 179,\n",
       " 2,\n",
       " 38,\n",
       " 32,\n",
       " 25,\n",
       " 7944,\n",
       " 451,\n",
       " 202,\n",
       " 14,\n",
       " 6,\n",
       " 717]"
      ]
     },
     "execution_count": 8,
     "metadata": {},
     "output_type": "execute_result"
    }
   ],
   "source": [
    "x_test[0]"
   ]
  },
  {
   "cell_type": "code",
   "execution_count": 9,
   "id": "604b0966-293b-426c-9b58-ae375cc07dd7",
   "metadata": {},
   "outputs": [],
   "source": [
    "from tensorflow.keras.preprocessing import sequence"
   ]
  },
  {
   "cell_type": "code",
   "execution_count": 10,
   "id": "85ce651b-93bb-4bc0-bbe4-6bc214445afa",
   "metadata": {},
   "outputs": [],
   "source": [
    "max_len = 500"
   ]
  },
  {
   "cell_type": "code",
   "execution_count": 11,
   "id": "f68b930d-c0f0-4a74-8c1f-0ed5b19cdd01",
   "metadata": {},
   "outputs": [],
   "source": [
    "X_train = sequence.pad_sequences(x_train, maxlen = max_len)"
   ]
  },
  {
   "cell_type": "code",
   "execution_count": 12,
   "id": "1b8afc84-4d34-4415-8560-40af21c41076",
   "metadata": {},
   "outputs": [],
   "source": [
    "X_test = sequence.pad_sequences(x_test, maxlen = max_len)"
   ]
  },
  {
   "cell_type": "code",
   "execution_count": 13,
   "id": "309d5f80-77a5-44aa-801c-a221e19f4d74",
   "metadata": {},
   "outputs": [],
   "source": [
    "from tensorflow.keras.models import Sequential\n",
    "from tensorflow.keras.layers import Dense, SimpleRNN, Embedding, Input\n",
    "from tensorflow.keras.callbacks import EarlyStopping, TensorBoard\n"
   ]
  },
  {
   "cell_type": "code",
   "execution_count": 14,
   "id": "511762f7-9b24-4af4-b7f7-d411aad6bfe7",
   "metadata": {},
   "outputs": [],
   "source": [
    "model = Sequential()"
   ]
  },
  {
   "cell_type": "code",
   "execution_count": 15,
   "id": "48274919-ecf0-4c4e-acd0-ad2068eb2ad6",
   "metadata": {},
   "outputs": [
    {
     "name": "stderr",
     "output_type": "stream",
     "text": [
      "2025-02-03 09:49:53.305792: E external/local_xla/xla/stream_executor/cuda/cuda_driver.cc:152] failed call to cuInit: INTERNAL: CUDA error: Failed call to cuInit: UNKNOWN ERROR (303)\n"
     ]
    }
   ],
   "source": [
    "\n",
    "dim = 150\n",
    "model.add(Embedding(input_dim=vocab_size, output_dim=dim))\n",
    "model.add(SimpleRNN(150))\n",
    "model.add(Dense(1, activation='sigmoid'))"
   ]
  },
  {
   "cell_type": "code",
   "execution_count": 16,
   "id": "127987ba-03ac-43f1-9a5e-1828d7bcf1e2",
   "metadata": {},
   "outputs": [],
   "source": [
    "model.compile(optimizer='adam', loss='binary_crossentropy', metrics=['accuracy'])"
   ]
  },
  {
   "cell_type": "code",
   "execution_count": 17,
   "id": "0a5c3c1c-dd06-4d1e-92d4-0d78bed42cae",
   "metadata": {},
   "outputs": [],
   "source": [
    "early_stop = EarlyStopping(patience = 5)"
   ]
  },
  {
   "cell_type": "code",
   "execution_count": 18,
   "id": "1622b7f8-43dd-4ecb-a219-bfc1195fa0a5",
   "metadata": {},
   "outputs": [],
   "source": [
    "board = TensorBoard(\n",
    "    log_dir='logs/fit',\n",
    "    histogram_freq=1,\n",
    "    write_graph=True,\n",
    ")"
   ]
  },
  {
   "cell_type": "code",
   "execution_count": null,
   "id": "ec30c28a-5f6a-4a94-a0d5-7a0b5c24e23d",
   "metadata": {},
   "outputs": [
    {
     "name": "stdout",
     "output_type": "stream",
     "text": [
      "Epoch 1/100\n",
      "\u001b[1m782/782\u001b[0m \u001b[32m━━━━━━━━━━━━━━━━━━━━\u001b[0m\u001b[37m\u001b[0m \u001b[1m262s\u001b[0m 332ms/step - accuracy: 0.5561 - loss: 0.6820 - val_accuracy: 0.6130 - val_loss: 0.6408\n",
      "Epoch 2/100\n",
      "\u001b[1m782/782\u001b[0m \u001b[32m━━━━━━━━━━━━━━━━━━━━\u001b[0m\u001b[37m\u001b[0m \u001b[1m259s\u001b[0m 331ms/step - accuracy: 0.6920 - loss: 0.5883 - val_accuracy: 0.6313 - val_loss: 0.6351\n",
      "Epoch 3/100\n",
      "\u001b[1m767/782\u001b[0m \u001b[32m━━━━━━━━━━━━━━━━━━━\u001b[0m\u001b[37m━\u001b[0m \u001b[1m3s\u001b[0m 227ms/step - accuracy: 0.7375 - loss: 0.5346"
     ]
    }
   ],
   "source": [
    "history = model.fit(X_train, y_train, validation_data=(X_test, y_test), epochs=100, callbacks=[early_stop, board])"
   ]
  },
  {
   "cell_type": "code",
   "execution_count": null,
   "id": "ef69b9ee-01cd-46ab-9f4c-fa77b87a25c4",
   "metadata": {},
   "outputs": [],
   "source": [
    "model.summary()"
   ]
  },
  {
   "cell_type": "code",
   "execution_count": null,
   "id": "c969e56a-096b-4e08-9564-a78dba513fb2",
   "metadata": {},
   "outputs": [],
   "source": [
    "pd.DataFrame(history.history).plot()"
   ]
  },
  {
   "cell_type": "code",
   "execution_count": null,
   "id": "d352de05-be58-4527-9ba7-a3b5876078ab",
   "metadata": {},
   "outputs": [],
   "source": [
    "model.save('IMBD.keras')"
   ]
  },
  {
   "cell_type": "code",
   "execution_count": null,
   "id": "4648f047-88c5-468e-b0f0-c6cb55e6f93b",
   "metadata": {},
   "outputs": [],
   "source": []
  }
 ],
 "metadata": {
  "kernelspec": {
   "display_name": "Python 3 (ipykernel)",
   "language": "python",
   "name": "python3"
  },
  "language_info": {
   "codemirror_mode": {
    "name": "ipython",
    "version": 3
   },
   "file_extension": ".py",
   "mimetype": "text/x-python",
   "name": "python",
   "nbconvert_exporter": "python",
   "pygments_lexer": "ipython3",
   "version": "3.12.7"
  }
 },
 "nbformat": 4,
 "nbformat_minor": 5
}
